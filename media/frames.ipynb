{
 "cells": [
  {
   "cell_type": "code",
   "execution_count": 2,
   "metadata": {},
   "outputs": [],
   "source": [
    "import cv2\n",
    "\n",
    "def loadLatestYoloRun():\n",
    "    vid = cv2.VideoCapture(\"bowline_knot/bow_knot_long.mp4\") \n",
    "\n",
    "    if(vid.isOpened() == False):\n",
    "        print(\"Error Loading Video\")\n",
    "\n",
    "    counter = 0\n",
    "    while(vid.isOpened()):\n",
    "        ret, frame = vid.read()\n",
    "\n",
    "        \n",
    "        if ret == False:\n",
    "            break\n",
    "\n",
    "        if (counter%10 == 0):\n",
    "            cv2.imwrite(f\"bowline_knot/all_frames/bow_{int(counter/10)}.jpg\", frame)\n",
    "        counter+=1\n",
    "\n",
    "    vid.release()\n",
    "    cv2.destroyAllWindows()\n",
    "\n",
    "loadLatestYoloRun()\n"
   ]
  }
 ],
 "metadata": {
  "kernelspec": {
   "display_name": "yolo",
   "language": "python",
   "name": "python3"
  },
  "language_info": {
   "codemirror_mode": {
    "name": "ipython",
    "version": 3
   },
   "file_extension": ".py",
   "mimetype": "text/x-python",
   "name": "python",
   "nbconvert_exporter": "python",
   "pygments_lexer": "ipython3",
   "version": "3.10.12"
  },
  "orig_nbformat": 4
 },
 "nbformat": 4,
 "nbformat_minor": 2
}
