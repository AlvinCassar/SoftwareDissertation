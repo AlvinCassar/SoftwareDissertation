{
 "cells": [
  {
   "cell_type": "code",
   "execution_count": 4,
   "metadata": {},
   "outputs": [],
   "source": [
    "#\"C:\\Users\\cassa\\Documents\\Github\\SoftwareDissertation\\media\\reef_knot\\reef_2\"\n",
    "#\"C:\\Users\\cassa\\Documents\\Github\\SoftwareDissertation\\media\\reef_knot\\split_reduced_frames\\roboflow_images_and_labels\\reef_2\"\n",
    "\n",
    "\n",
    "import fileinput\n",
    "import glob\n",
    "import sys\n",
    "\n",
    "c = 1\n",
    "\n",
    "for line in fileinput.input(glob.glob('C:/Users/cassa/Documents/Github/SoftwareDissertation/media/bowline_knot/split_reduced_frames/roboflow_images_and_labels/bowline_5/*.txt'), inplace=True):\n",
    "    sys.stdout.write(line.replace('0', '4', 1))"
   ]
  }
 ],
 "metadata": {
  "kernelspec": {
   "display_name": "yolov5env",
   "language": "python",
   "name": "python3"
  },
  "language_info": {
   "codemirror_mode": {
    "name": "ipython",
    "version": 3
   },
   "file_extension": ".py",
   "mimetype": "text/x-python",
   "name": "python",
   "nbconvert_exporter": "python",
   "pygments_lexer": "ipython3",
   "version": "3.10.12"
  },
  "orig_nbformat": 4
 },
 "nbformat": 4,
 "nbformat_minor": 2
}
