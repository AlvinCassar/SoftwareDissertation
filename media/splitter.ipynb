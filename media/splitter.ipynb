{
 "cells": [
  {
   "cell_type": "code",
   "execution_count": 10,
   "metadata": {},
   "outputs": [
    {
     "name": "stderr",
     "output_type": "stream",
     "text": [
      "Copying files: 458 files [00:01, 412.93 files/s]\n"
     ]
    }
   ],
   "source": [
    "import splitfolders\n",
    "import os\n",
    "\n",
    "input_folder = 'reef_knot/split_reduced_frames/classes_images_and_labels/' #Enter Input Folder\n",
    "output = 'reef_knot/split_reduced_frames/output' #Enter Output Folder\n",
    "\n",
    "if (os.path.isdir(os.path.join(input_folder))):\n",
    "    splitfolders.ratio(input_folder, output=output, seed=1, ratio=(.7,.3), group_prefix=2)"
   ]
  }
 ],
 "metadata": {
  "kernelspec": {
   "display_name": "yolo",
   "language": "python",
   "name": "python3"
  },
  "language_info": {
   "codemirror_mode": {
    "name": "ipython",
    "version": 3
   },
   "file_extension": ".py",
   "mimetype": "text/x-python",
   "name": "python",
   "nbconvert_exporter": "python",
   "pygments_lexer": "ipython3",
   "version": "3.10.9"
  },
  "orig_nbformat": 4
 },
 "nbformat": 4,
 "nbformat_minor": 2
}
